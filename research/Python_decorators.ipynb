{
  "cells": [
    {
      "cell_type": "markdown",
      "metadata": {
        "id": "-_Me6mg1nViu"
      },
      "source": [
        "### **Decorators**"
      ]
    },
    {
      "cell_type": "code",
      "execution_count": null,
      "metadata": {
        "id": "SBU5KR6lnUQs"
      },
      "outputs": [],
      "source": []
    },
    {
      "cell_type": "markdown",
      "metadata": {
        "id": "y2CvAloAoXU1"
      },
      "source": [
        "### **Syntactic Structure**\n",
        "\n",
        "Behaviour: when you call `func`, `func` gets passed into `outter_function`.\n",
        "\n"
      ]
    },
    {
      "cell_type": "code",
      "execution_count": null,
      "metadata": {
        "id": "ZmKgvN_pkcyD"
      },
      "outputs": [
        {
          "ename": "",
          "evalue": "",
          "output_type": "error",
          "traceback": [
            "\u001b[1;31mRunning cells with 'Python 3.9.18 ('ml-ops')' requires ipykernel package.\n",
            "\u001b[1;31mRun the following command to install 'ipykernel' into the Python environment. \n",
            "\u001b[1;31mCommand: 'conda install -n ml-ops ipykernel --update-deps --force-reinstall'"
          ]
        }
      ],
      "source": [
        "def outter_function(func):\n",
        "\n",
        "  def wrapper():\n",
        "    func()\n",
        "\n",
        "  return wrapper\n",
        "\n",
        "\n",
        "@outter_function\n",
        "def func(*agrs, **kwargs):\n",
        "  # do things\n",
        "  pass"
      ]
    },
    {
      "cell_type": "code",
      "execution_count": 20,
      "metadata": {
        "id": "N00MzkrPmn5z"
      },
      "outputs": [],
      "source": [
        "func()"
      ]
    },
    {
      "cell_type": "markdown",
      "metadata": {
        "id": "afMyBpVPvIQm"
      },
      "source": [
        "### **Example 1**"
      ]
    },
    {
      "cell_type": "code",
      "execution_count": 56,
      "metadata": {
        "id": "AfgfnnNavJAO"
      },
      "outputs": [],
      "source": [
        "def add_good_bye_to_greeting(func):\n",
        "\n",
        "  def wrapper():\n",
        "    func()\n",
        "    print('good bye')\n",
        "  return wrapper\n",
        "\n",
        "@add_good_bye_to_greeting\n",
        "def greeting():\n",
        "  print('hello world')"
      ]
    },
    {
      "cell_type": "code",
      "execution_count": 57,
      "metadata": {
        "colab": {
          "base_uri": "https://localhost:8080/"
        },
        "id": "6omP_xC1vet0",
        "outputId": "90e587fa-8911-458e-dac3-6804eda2e3c0"
      },
      "outputs": [
        {
          "name": "stdout",
          "output_type": "stream",
          "text": [
            "hello world\n",
            "good bye\n"
          ]
        }
      ],
      "source": [
        "greeting()"
      ]
    },
    {
      "cell_type": "markdown",
      "metadata": {
        "id": "8LMOJMMRqEw0"
      },
      "source": [
        "### **Example 2**"
      ]
    },
    {
      "cell_type": "code",
      "execution_count": 53,
      "metadata": {
        "id": "Squefq1Kmn8F"
      },
      "outputs": [],
      "source": [
        "from time import time\n",
        "\n",
        "\n",
        "\n",
        "def time_func(func):\n",
        "\n",
        "  def wrapper(*params, **kwparams):\n",
        "    start_time = time()\n",
        "\n",
        "    for arg in params:\n",
        "        func(arg)\n",
        "\n",
        "    end_time = time()\n",
        "    print(f'funtion {func.__name__} runtime{end_time - start_time}\\n\\n')\n",
        "\n",
        "  return wrapper\n",
        "\n",
        "\n",
        "\n",
        "@time_func\n",
        "def list_sum_1(number_list: list[int]):\n",
        "\n",
        "  sum = 0\n",
        "  while number_list:\n",
        "    sum += number_list.pop()\n",
        "  print(sum)\n",
        "\n",
        "@time_func\n",
        "def list_sum_2(number_list: list[int]):\n",
        "\n",
        "  sum = 0\n",
        "  for number in number_list:\n",
        "    sum += number\n",
        "  print(sum)\n",
        "\n",
        "@time_func\n",
        "def list_sum_3(number_list: list[int]):\n",
        "\n",
        "  sum1 = sum(number_list)\n",
        "  print(sum1)\n",
        "\n",
        "\n",
        "\n"
      ]
    },
    {
      "cell_type": "code",
      "execution_count": 54,
      "metadata": {
        "colab": {
          "base_uri": "https://localhost:8080/"
        },
        "id": "E0_0nOuSmn-L",
        "outputId": "07d74dc3-20be-4307-9324-03a6a48a1ca1"
      },
      "outputs": [
        {
          "name": "stdout",
          "output_type": "stream",
          "text": [
            "499500\n",
            "funtion list_sum_2 runtime0.0009124279022216797\n",
            "\n",
            "\n",
            "499500\n",
            "funtion list_sum_3 runtime0.0006291866302490234\n",
            "\n",
            "\n",
            "499500\n",
            "funtion list_sum_1 runtime0.0006890296936035156\n",
            "\n",
            "\n"
          ]
        }
      ],
      "source": [
        "A = [x for x in range(1000)]\n",
        "\n",
        "list_sum_2(A)\n",
        "list_sum_3(A)\n",
        "list_sum_1(A)"
      ]
    },
    {
      "cell_type": "code",
      "execution_count": 55,
      "metadata": {
        "colab": {
          "base_uri": "https://localhost:8080/",
          "height": 35
        },
        "id": "SPo0rUAdu3UV",
        "outputId": "f4be53bc-0034-4a02-fb59-e0a8a339f3e3"
      },
      "outputs": [
        {
          "data": {
            "application/vnd.google.colaboratory.intrinsic+json": {
              "type": "string"
            },
            "text/plain": [
              "'wrapper'"
            ]
          },
          "execution_count": 55,
          "metadata": {},
          "output_type": "execute_result"
        }
      ],
      "source": [
        "list_sum_1.__name__"
      ]
    },
    {
      "cell_type": "code",
      "execution_count": 47,
      "metadata": {
        "id": "PcmQ5Y9UmoA3"
      },
      "outputs": [],
      "source": [
        "def add(*args, **kwargs):\n",
        "\n",
        "  print(f'\\n\\nARGS LIST: {args}\\n\\n KEY WORD ARGS: {kwargs}\\n\\n')\n"
      ]
    },
    {
      "cell_type": "code",
      "execution_count": 48,
      "metadata": {
        "colab": {
          "base_uri": "https://localhost:8080/"
        },
        "id": "uY9fTNt8moC0",
        "outputId": "4c553ade-1566-4b0d-9ba9-2e6a57d36a43"
      },
      "outputs": [
        {
          "name": "stdout",
          "output_type": "stream",
          "text": [
            "\n",
            "\n",
            "ARGS LIST: (1, 2, 3, {'name': 'david', 'age': 17})\n",
            "\n",
            " KEY WORD ARGS: {}\n",
            "\n",
            "\n"
          ]
        }
      ],
      "source": [
        "add(1,2,3, {\n",
        "    'name': 'david',\n",
        "    'age':17\n",
        "})"
      ]
    },
    {
      "cell_type": "code",
      "execution_count": 46,
      "metadata": {
        "id": "ut5an0v3twLm"
      },
      "outputs": [],
      "source": [
        "def func(name, age, place = 'toronto'):\n",
        "         pass"
      ]
    },
    {
      "cell_type": "code",
      "execution_count": null,
      "metadata": {
        "id": "xd9YtMpKuBHP"
      },
      "outputs": [],
      "source": []
    }
  ],
  "metadata": {
    "colab": {
      "provenance": []
    },
    "kernelspec": {
      "display_name": "Python 3.9.18 ('ml-ops')",
      "language": "python",
      "name": "python3"
    },
    "language_info": {
      "name": "python",
      "version": "3.9.18"
    },
    "vscode": {
      "interpreter": {
        "hash": "de4a5b43f4386ae933302fb0f8aec8740f30dadb2783614d74b67654bb1757dc"
      }
    }
  },
  "nbformat": 4,
  "nbformat_minor": 0
}
